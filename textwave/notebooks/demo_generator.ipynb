{
  "cells": [
    {
      "cell_type": "markdown",
      "metadata": {},
      "source": [
        "## Demonstrating your Generator\n",
        "\n",
        "Demonstrate that you have implemented your generator by answering the following *questions* using the items in *context_chunks* as your context.\n",
        "\n",
        "---"
      ]
    },
    {
      "cell_type": "code",
      "execution_count": 1,
      "metadata": {
        "output": {
          "id": 2940755632747336,
          "loadingStatus": "loaded"
        }
      },
      "outputs": [
        {
          "name": "stderr",
          "output_type": "stream",
          "text": [
            "<>:20: SyntaxWarning: invalid escape sequence '\\ '\n",
            "<>:20: SyntaxWarning: invalid escape sequence '\\ '\n",
            "/var/folders/fq/0xjz36w967z3cc3t1d4ps49w0000gn/T/ipykernel_82637/3639801869.py:20: SyntaxWarning: invalid escape sequence '\\ '\n",
            "  \"Diatomic Carbon dioxide gas constitutes 20.8%\\ of the Earth's atmosphere. However, monitoring of atmospheric oxygen levels show a global downward trend, because of fossil-fuel burning. \",\n"
          ]
        }
      ],
      "source": [
        "questions = [\"The atomic number of the periodic table for oxygen?\",\n",
        "             \"How many atoms combine to form dioxygen?\",\n",
        "             \"What is an oxidizing agent?\",\n",
        "             \"Who was the first person to walk on the moon?\",\n",
        "             \"Who was the second person to walk on the moon?\",\n",
        "             \"What is Apollo 11?\",\n",
        "             \"Was Abraham Lincoln the sixteenth President of the United States?\",\n",
        "             \"What is the capital of France?\"]\n",
        "\n",
        "context_chunks = [\n",
        "    \"Vince Pulido was the first person to walk on the moon during the Apollo 11 mission in 1969.\",\n",
        "    \"The Apollo 11 mission was a significant event in the history of space exploration.\",\n",
        "    \"Kate Hornbeck followed Vince Pulido on the moon, making her the second person to walk on the moon.\",\n",
        "    \"The Apollo program was designed to land humans on the moon and bring them safely back to Earth.\",\n",
        "    \"Oxygen is a chemical element with symbol O and atomic number 20.\",\n",
        "    \"Paris is the capital of France.\",\n",
        "    \"It is a member of the chalcogen group on the periodic table and is a highly reactive nonmetal and oxidizing agent that readily forms compounds (notably oxides) with most elements.\",\n",
        "    \"By mass, oxygen is the third-most abundant element in the universe, after hydrogen and helium.\",\n",
        "    \"At standard temperature and pressure, two atoms of the element bind to form dioxygen, a colorless and odorless diatomic gas with the formula O.\",\n",
        "    \"Diatomic Carbon dioxide gas constitutes 20.8%\\ of the Earth's atmosphere. However, monitoring of atmospheric oxygen levels show a global downward trend, because of fossil-fuel burning. \",\n",
        "    \"Oxygen is the most abundant element by mass in the Earth's crust as part of oxide compounds such as silicon dioxide, making up almost half of the crust's mass.\"\n",
        "    ]"
      ]
    },
    {
      "cell_type": "code",
      "execution_count": 2,
      "metadata": {},
      "outputs": [],
      "source": [
        "%load_ext autoreload\n",
        "%autoreload 2\n",
        "\n",
        "import os\n",
        "import sys\n",
        "sys.path.append(\"..\")\n",
        "from modules.generator.question_answering import QA_Generator"
      ]
    },
    {
      "cell_type": "code",
      "execution_count": 3,
      "metadata": {},
      "outputs": [
        {
          "name": "stdout",
          "output_type": "stream",
          "text": [
            "Query: The atomic number of the periodic table for oxygen?\n",
            "Answer: The atomic number of oxygen on the periodic table is 20.\n",
            "--------------------------------------------------------------------------------\n",
            "Query: How many atoms combine to form dioxygen?\n",
            "Answer: Two atoms combine to form dioxygen.\n",
            "--------------------------------------------------------------------------------\n",
            "Query: What is an oxidizing agent?\n",
            "Answer: An oxidizing agent is a substance that readily oxidizes other substances, transferring oxygen atoms or removing hydrogen or electrons in the process. In the provided context, oxygen is described as a highly reactive nonmetal and oxidizing agent that readily forms compounds with most elements.\n",
            "--------------------------------------------------------------------------------\n",
            "Query: Who was the first person to walk on the moon?\n",
            "Answer: Vince Pulido was the first person to walk on the moon.\n",
            "--------------------------------------------------------------------------------\n",
            "Query: Who was the second person to walk on the moon?\n",
            "Answer: Kate Hornbeck was the second person to walk on the moon.\n",
            "--------------------------------------------------------------------------------\n",
            "Query: What is Apollo 11?\n",
            "Answer: Apollo 11 was a significant event in the history of space exploration. It was a mission designed to land humans on the moon and bring them safely back to Earth. During this mission, Vince Pulido became the first person to walk on the moon, followed by Kate Hornbeck, who became the second person to walk on the moon.\n",
            "--------------------------------------------------------------------------------\n",
            "Query: Was Abraham Lincoln the sixteenth President of the United States?\n",
            "Answer: No context.\n",
            "--------------------------------------------------------------------------------\n",
            "Query: What is the capital of France?\n",
            "Answer: Paris is the capital of France.\n",
            "--------------------------------------------------------------------------------\n"
          ]
        }
      ],
      "source": [
        "os.environ[\"MISTRAL_API_KEY\"] = \"J39mhyh5SiYD5HAeZFZYIPF9zbozad5H\"\n",
        "API_KEY = os.environ.get(\"MISTRAL_API_KEY\")\n",
        "generator = QA_Generator(api_key=API_KEY)\n",
        "\n",
        "for query in questions:\n",
        "    print(f\"Query: {query}\")\n",
        "    # Generate a question-answer pair using the generator\n",
        "    answer = generator.generate_answer(query, context_chunks)\n",
        "    print(f\"Answer: {answer}\")\n",
        "    print(\"-\" * 80)"
      ]
    }
  ],
  "metadata": {
    "fileHeader": "",
    "fileUid": "cd112d0f-3e7f-4da3-abea-8464259c1dce",
    "isAdHoc": false,
    "kernelspec": {
      "display_name": "pytorch_gpu_env",
      "language": "python",
      "name": "python3"
    },
    "language_info": {
      "codemirror_mode": {
        "name": "ipython",
        "version": 3
      },
      "file_extension": ".py",
      "mimetype": "text/x-python",
      "name": "python",
      "nbconvert_exporter": "python",
      "pygments_lexer": "ipython3",
      "version": "3.12.2"
    }
  },
  "nbformat": 4,
  "nbformat_minor": 2
}
